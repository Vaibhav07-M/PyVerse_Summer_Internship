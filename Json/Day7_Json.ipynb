{
  "nbformat": 4,
  "nbformat_minor": 0,
  "metadata": {
    "colab": {
      "provenance": []
    },
    "kernelspec": {
      "name": "python3",
      "display_name": "Python 3"
    },
    "language_info": {
      "name": "python"
    }
  },
  "cells": [
    {
      "cell_type": "markdown",
      "source": [
        "###Json Basics"
      ],
      "metadata": {
        "id": "CJcBdWO0Oc0A"
      }
    },
    {
      "cell_type": "code",
      "execution_count": 4,
      "metadata": {
        "colab": {
          "base_uri": "https://localhost:8080/"
        },
        "id": "-1a4oD5fNy04",
        "outputId": "4263294f-5f80-4f9a-8cfa-2f7d1e530fd6"
      },
      "outputs": [
        {
          "output_type": "stream",
          "name": "stdout",
          "text": [
            "{\n",
            "    \"Name\": \"John\",\n",
            "    \"Age\": 30,\n",
            "    \"City\": \"New York\"\n",
            "} \n",
            " <class 'str'>\n"
          ]
        }
      ],
      "source": [
        "import json\n",
        "\n",
        "id = {\"Name\": \"John\", \"Age\": 30, \"City\": \"New York\"}\n",
        "id_json = json.dumps(id, indent = 2, sort_keys = False)\n",
        "print(id_json, \"\\n\", type(id_json))"
      ]
    },
    {
      "cell_type": "code",
      "source": [
        "with open(\"idjson\", \"w\") as file:\n",
        "  json.dump(id, file, indent = 2, sort_keys = False)"
      ],
      "metadata": {
        "id": "c-wU1SyGO4Iz"
      },
      "execution_count": 11,
      "outputs": []
    },
    {
      "cell_type": "code",
      "source": [
        "!cat idjson"
      ],
      "metadata": {
        "colab": {
          "base_uri": "https://localhost:8080/"
        },
        "id": "ehNCHd5SPvj3",
        "outputId": "4e2f80d5-785c-4f87-f904-319c4bfdcaab"
      },
      "execution_count": 12,
      "outputs": [
        {
          "output_type": "stream",
          "name": "stdout",
          "text": [
            "{\n",
            "  \"Name\": \"John\",\n",
            "  \"Age\": 30,\n",
            "  \"City\": \"New York\"\n",
            "}"
          ]
        }
      ]
    },
    {
      "cell_type": "code",
      "source": [
        "id_py = json.load(open(\"idjson\"))\n",
        "print(id_py, \"\\n\", type(id_py))"
      ],
      "metadata": {
        "colab": {
          "base_uri": "https://localhost:8080/"
        },
        "id": "2fG7HpiTQoyj",
        "outputId": "87305fd6-64e3-4d0c-c3be-a3028f72da94"
      },
      "execution_count": 14,
      "outputs": [
        {
          "output_type": "stream",
          "name": "stdout",
          "text": [
            "{'Name': 'John', 'Age': 30, 'City': 'New York'} \n",
            " <class 'dict'>\n"
          ]
        }
      ]
    },
    {
      "cell_type": "code",
      "source": [
        "with open(\"idjson\", \"r\") as file:\n",
        "  id_pyf = json.load(file)\n",
        "  print(id_pyf, \"\\n\", type(id_pyf))"
      ],
      "metadata": {
        "colab": {
          "base_uri": "https://localhost:8080/"
        },
        "id": "tkIQ5muVR3-v",
        "outputId": "ca77d2e6-8779-4eae-ce0e-ed6cfb05fe0e"
      },
      "execution_count": 17,
      "outputs": [
        {
          "output_type": "stream",
          "name": "stdout",
          "text": [
            "{'Name': 'John', 'Age': 30, 'City': 'New York'} \n",
            " <class 'dict'>\n"
          ]
        }
      ]
    },
    {
      "cell_type": "markdown",
      "source": [
        "###Json In Class"
      ],
      "metadata": {
        "id": "jXkwtQmvSfXw"
      }
    },
    {
      "cell_type": "code",
      "source": [
        "import json\n",
        "\n",
        "class Boss:\n",
        "  def __init__(self, Name, Age, City):\n",
        "    self.Name = Name\n",
        "    self.Age = Age\n",
        "    self.City = City\n",
        "\n",
        "John = Boss(\"John\", 29, \"Mumbai\")\n",
        "\n",
        "def defaultjson(obj):\n",
        "  if isinstance(obj, Boss):\n",
        "    return{\n",
        "        \"Name\" : obj.Name,\n",
        "        \"Age\" : obj.Age,\n",
        "        \"City\" : obj.City,\n",
        "        obj.__class__.__name__  : True\n",
        "    }\n",
        "  else:\n",
        "    raise TypeError(f\"Object of type {obj.__class__.__name__} is not JSON serializable\")\n",
        "\n",
        "John_json = json.dumps(John, default = defaultjson)\n",
        "print(John_json, \"\\n\", type(John_json))"
      ],
      "metadata": {
        "colab": {
          "base_uri": "https://localhost:8080/"
        },
        "id": "GCy0OFKBSey3",
        "outputId": "6b1af421-f38b-4800-8673-cde54f624963"
      },
      "execution_count": 23,
      "outputs": [
        {
          "output_type": "stream",
          "name": "stdout",
          "text": [
            "{\"Name\": \"John\", \"Age\": 29, \"City\": \"Mumbai\", \"Boss\": true} \n",
            " <class 'str'>\n"
          ]
        }
      ]
    },
    {
      "cell_type": "markdown",
      "source": [
        "###Using JSONEncoder"
      ],
      "metadata": {
        "id": "p5zrkuF-XGcc"
      }
    },
    {
      "cell_type": "code",
      "source": [
        "import json\n",
        "from json import JSONEncoder\n",
        "\n",
        "class Car:\n",
        "  def __init__(self, Name, Colour):\n",
        "    self.Name = Name\n",
        "    self.Colour = Colour\n",
        "\n",
        "car1 = Car(\"BMW\", \"Black\")\n",
        "\n",
        "class CarEncoder(JSONEncoder):\n",
        "  def default(self, obj):\n",
        "    if isinstance(obj, Car):\n",
        "      return {\n",
        "          \"Name\" : obj.Name,\n",
        "          \"Colour\" : obj.Colour,\n",
        "          obj.__class__.__name__ : True\n",
        "      }\n",
        "    return JSONEncoder.defaultcar(self, obj)\n",
        "\n",
        "car1_json = json.dumps(car1, cls = CarEncoder)\n",
        "print(car1_json, \"\\n\", type(car1_json))"
      ],
      "metadata": {
        "colab": {
          "base_uri": "https://localhost:8080/"
        },
        "id": "ImcU0cCMXMQ9",
        "outputId": "93be70f7-6aa0-4927-c45c-24ac9fadd537"
      },
      "execution_count": 29,
      "outputs": [
        {
          "output_type": "stream",
          "name": "stdout",
          "text": [
            "{\"Name\": \"BMW\", \"Colour\": \"Black\", \"Car\": true} \n",
            " <class 'str'>\n"
          ]
        }
      ]
    },
    {
      "cell_type": "code",
      "source": [
        "def cardecoder(dct):\n",
        "  if Car.__name__ in dct:\n",
        "    return Car(dct[\"Name\"], dct[\"Colour\"])\n",
        "  return dct\n",
        "\n",
        "car1_py = json.loads(car1_json, object_hook = cardecoder)\n",
        "print(car1_py.Name, \"\\n\", type(car1_py))"
      ],
      "metadata": {
        "colab": {
          "base_uri": "https://localhost:8080/"
        },
        "id": "lAEKZmrJcnqs",
        "outputId": "37686499-f315-49c8-b3d9-5290728bb570"
      },
      "execution_count": 35,
      "outputs": [
        {
          "output_type": "stream",
          "name": "stdout",
          "text": [
            "BMW \n",
            " <class '__main__.Car'>\n"
          ]
        }
      ]
    }
  ]
}