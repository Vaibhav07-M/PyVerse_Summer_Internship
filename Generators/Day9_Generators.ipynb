{
  "nbformat": 4,
  "nbformat_minor": 0,
  "metadata": {
    "colab": {
      "provenance": []
    },
    "kernelspec": {
      "name": "python3",
      "display_name": "Python 3"
    },
    "language_info": {
      "name": "python"
    }
  },
  "cells": [
    {
      "cell_type": "markdown",
      "source": [
        "### Importance of Generators"
      ],
      "metadata": {
        "id": "JO7A41pTwOYh"
      }
    },
    {
      "cell_type": "code",
      "execution_count": 38,
      "metadata": {
        "id": "1_2beDmav8qS"
      },
      "outputs": [],
      "source": [
        "from math import sqrt\n",
        "import time\n",
        "import tracemalloc\n",
        "\n",
        "N = 10 ** 7"
      ]
    },
    {
      "cell_type": "code",
      "source": [
        "N = 10 ** 7\n",
        "def run_list():\n",
        "    print(\"\\n--- List Comprehension ---\")\n",
        "    tracemalloc.start()\n",
        "    t1 = time.perf_counter()\n",
        "\n",
        "    nums = [sqrt(x) for x in range(N)]  # list comprehension\n",
        "    total = sum(nums)                   # force evaluation\n",
        "\n",
        "    t2 = time.perf_counter()\n",
        "    current, peak = tracemalloc.get_traced_memory()\n",
        "    tracemalloc.stop()\n",
        "\n",
        "    print(f\"Total: {total:.2f}\")\n",
        "    print(f\"Time: {t2 - t1:.4f} seconds\")\n",
        "    print(f\"Peak Memory: {peak / 1024 / 1024:.2f} MB\")\n",
        "run_list()"
      ],
      "metadata": {
        "colab": {
          "base_uri": "https://localhost:8080/"
        },
        "id": "vAkBb1n7wbwp",
        "outputId": "fc4000a9-51dc-4c2d-e3ea-7ff974831864"
      },
      "execution_count": 39,
      "outputs": [
        {
          "output_type": "stream",
          "name": "stdout",
          "text": [
            "\n",
            "--- List Comprehension ---\n",
            "Total: 21081849486.44\n",
            "Time: 14.3866 seconds\n",
            "Peak Memory: 313.89 MB\n"
          ]
        }
      ]
    },
    {
      "cell_type": "code",
      "source": [
        "def run_generator():\n",
        "    print(\"\\n--- Generator Expression ---\")\n",
        "    tracemalloc.start()\n",
        "    t1 = time.perf_counter()\n",
        "\n",
        "    nums = (sqrt(x) for x in range(N))  # generator expression\n",
        "    total = sum(nums)                   # force evaluation\n",
        "\n",
        "    t2 = time.perf_counter()\n",
        "    current, peak = tracemalloc.get_traced_memory()\n",
        "    tracemalloc.stop()\n",
        "\n",
        "    print(f\"Total: {total:.2f}\")\n",
        "    print(f\"Time: {t2 - t1:.4f} seconds\")\n",
        "    print(f\"Peak Memory: {peak / 1024 / 1024:.2f} MB\")\n",
        "run_generator()"
      ],
      "metadata": {
        "colab": {
          "base_uri": "https://localhost:8080/"
        },
        "id": "t68AEWjDwqlF",
        "outputId": "8ee80bb3-539a-4cbe-f8a2-2bff84945372"
      },
      "execution_count": 40,
      "outputs": [
        {
          "output_type": "stream",
          "name": "stdout",
          "text": [
            "\n",
            "--- Generator Expression ---\n",
            "Total: 21081849486.44\n",
            "Time: 7.7974 seconds\n",
            "Peak Memory: 0.07 MB\n"
          ]
        }
      ]
    },
    {
      "cell_type": "markdown",
      "source": [
        "###List comprehension VS Generators"
      ],
      "metadata": {
        "id": "t8QRySq9zTAH"
      }
    },
    {
      "cell_type": "code",
      "source": [
        "from math import sqrt\n",
        "\n",
        "nums = [sqrt(x) for x in [1, 2, 3, 4, 5, 6, 7, 8, 9]]\n",
        "print(nums)\n",
        "\n",
        "for i in nums:\n",
        "  print(i, end=\" \")"
      ],
      "metadata": {
        "colab": {
          "base_uri": "https://localhost:8080/"
        },
        "id": "2uf-k5ntxncg",
        "outputId": "52e1f704-4868-4894-9912-2aef6060ef0d"
      },
      "execution_count": 41,
      "outputs": [
        {
          "output_type": "stream",
          "name": "stdout",
          "text": [
            "[1.0, 1.4142135623730951, 1.7320508075688772, 2.0, 2.23606797749979, 2.449489742783178, 2.6457513110645907, 2.8284271247461903, 3.0]\n",
            "1.0 1.4142135623730951 1.7320508075688772 2.0 2.23606797749979 2.449489742783178 2.6457513110645907 2.8284271247461903 3.0 "
          ]
        }
      ]
    },
    {
      "cell_type": "code",
      "source": [
        "nums = (sqrt(x) for x in [1, 2, 3, 4, 5, 6, 7, 8, 9])\n",
        "print(list(nums))\n",
        "\n",
        "for i in nums:                #Doesn't print this because it do not store the values in values so only one time we can print either by loop or print\n",
        "  print(i, end=\" \")"
      ],
      "metadata": {
        "colab": {
          "base_uri": "https://localhost:8080/"
        },
        "id": "s_b2IANO0MWj",
        "outputId": "a225b106-d9e3-4863-a23e-e6e934360846"
      },
      "execution_count": 42,
      "outputs": [
        {
          "output_type": "stream",
          "name": "stdout",
          "text": [
            "[1.0, 1.4142135623730951, 1.7320508075688772, 2.0, 2.23606797749979, 2.449489742783178, 2.6457513110645907, 2.8284271247461903, 3.0]\n"
          ]
        }
      ]
    },
    {
      "cell_type": "markdown",
      "source": [
        "###More about Class"
      ],
      "metadata": {
        "id": "uovO7KfK1p7b"
      }
    },
    {
      "cell_type": "code",
      "source": [
        "def giftallotment(a, b, c):\n",
        "    print(f\"Dad's gift: {a} \\nMom's gift: {b} \\nBrother's gift: {c}\")\n",
        "\n",
        "giftallotment(\"Dress\", \"Game pass\", \"Money Request\")                        #Here we have to remember the order in which we are assigning the value\n",
        "                                                                            #so that no wrong value goes into other"
      ],
      "metadata": {
        "colab": {
          "base_uri": "https://localhost:8080/"
        },
        "id": "WadJAJwn1vGX",
        "outputId": "59be0aef-c69c-46ac-a194-8e60a195814d"
      },
      "execution_count": 43,
      "outputs": [
        {
          "output_type": "stream",
          "name": "stdout",
          "text": [
            "Dad's gift: Dress \n",
            "Mom's gift: Game pass \n",
            "Brother's gift: Money Request\n"
          ]
        }
      ]
    },
    {
      "cell_type": "code",
      "source": [
        "def giftallotment(a, b, c):\n",
        "    print(f\"Dad's gift: {a} \\nMom's gift: {b} \\nBrother's gift: {c}\")\n",
        "\n",
        "giftallotment(b = \"Dress\", c = \"Game pass\", a = \"Money Request\")            #Here order doesn't matter you just have to assign the value to correct variable"
      ],
      "metadata": {
        "colab": {
          "base_uri": "https://localhost:8080/"
        },
        "id": "Rc6yoOvh1o95",
        "outputId": "6bf2c4e6-104e-4cf9-ea36-9e88eed205f5"
      },
      "execution_count": 44,
      "outputs": [
        {
          "output_type": "stream",
          "name": "stdout",
          "text": [
            "Dad's gift: Money Request \n",
            "Mom's gift: Dress \n",
            "Brother's gift: Game pass\n"
          ]
        }
      ]
    },
    {
      "cell_type": "code",
      "source": [
        "def giftallotment(a, b, c, d = \"Plushie\"):\n",
        "    print(f\"Dad's gift: {a} \\nMom's gift: {b} \\nBrother's gift: {c} \\nSister's gift: {d}\")\n",
        "                                                                    #Here we made one defalut value for the variables\n",
        "giftallotment(b = \"Dress\", c = \"Game pass\", a = \"Money Request\")    #So iF we forget to give them value a default value will be assigned to them"
      ],
      "metadata": {
        "colab": {
          "base_uri": "https://localhost:8080/"
        },
        "id": "QojZvAXL23zv",
        "outputId": "56bb8eda-7aa3-4012-cf52-29e4b7b5a34c"
      },
      "execution_count": 45,
      "outputs": [
        {
          "output_type": "stream",
          "name": "stdout",
          "text": [
            "Dad's gift: Money Request \n",
            "Mom's gift: Dress \n",
            "Brother's gift: Game pass \n",
            "Sister's gift: Plushie\n"
          ]
        }
      ]
    },
    {
      "cell_type": "code",
      "source": [
        "def giftallotment1(*args):\n",
        "    print(f\"Dad's gift: {args[2]} \\nMom's gift: {args[0]} \\nBrother's gift: {args[1]}\")\n",
        "                                                          #Here we used args to store the value of the variables\n",
        "giftallotment1(\"Dress\", \"Game pass\", \"Money Request\")     #in the order we have assigned to the class"
      ],
      "metadata": {
        "colab": {
          "base_uri": "https://localhost:8080/"
        },
        "id": "fbHn0DCd3ria",
        "outputId": "f0b1f457-ef3b-4778-f4e3-ab9909a49103"
      },
      "execution_count": 46,
      "outputs": [
        {
          "output_type": "stream",
          "name": "stdout",
          "text": [
            "Dad's gift: Money Request \n",
            "Mom's gift: Dress \n",
            "Brother's gift: Game pass\n"
          ]
        }
      ]
    },
    {
      "cell_type": "markdown",
      "source": [
        "###Global Variables"
      ],
      "metadata": {
        "id": "ALDoJyP34Nsi"
      }
    },
    {
      "cell_type": "code",
      "source": [
        "globalvar = 100"
      ],
      "metadata": {
        "id": "huPBPnXM4VOz"
      },
      "execution_count": 47,
      "outputs": []
    },
    {
      "cell_type": "code",
      "source": [
        "def local_var():\n",
        "    globalvar = 0\n",
        "    print(f\"from inside {globalvar}\")\n",
        "\n",
        "print(f\"Before Local_var {globalvar}\")\n",
        "local_var()\n",
        "print(f\"After Local_var {globalvar}\\n\")"
      ],
      "metadata": {
        "colab": {
          "base_uri": "https://localhost:8080/"
        },
        "id": "moIx2rvq4gGr",
        "outputId": "48644dcb-2202-4117-9eec-39b06f6d0604"
      },
      "execution_count": 48,
      "outputs": [
        {
          "output_type": "stream",
          "name": "stdout",
          "text": [
            "Before Local_var 100\n",
            "from inside 0\n",
            "After Local_var 100\n",
            "\n"
          ]
        }
      ]
    },
    {
      "cell_type": "code",
      "source": [
        "def global_var():\n",
        "    global globalvar\n",
        "    x = globalvar\n",
        "    globalvar = 0\n",
        "    print(f\"from inside {x, globalvar}\")\n",
        "\n",
        "print(f\"Before Global_var {globalvar}\")\n",
        "global_var()\n",
        "print(f\"After Global_var {globalvar}\")"
      ],
      "metadata": {
        "colab": {
          "base_uri": "https://localhost:8080/"
        },
        "id": "Vy6BCF3u4hXr",
        "outputId": "9186acea-3ada-4c71-9d34-e2676e2799e0"
      },
      "execution_count": 49,
      "outputs": [
        {
          "output_type": "stream",
          "name": "stdout",
          "text": [
            "Before Global_var 100\n",
            "from inside (100, 0)\n",
            "After Global_var 0\n"
          ]
        }
      ]
    },
    {
      "cell_type": "markdown",
      "source": [
        "### Different uses of *"
      ],
      "metadata": {
        "id": "P6cO2Sma784x"
      }
    },
    {
      "cell_type": "code",
      "source": [
        "mul = 7 * 3\n",
        "print(mul)"
      ],
      "metadata": {
        "colab": {
          "base_uri": "https://localhost:8080/"
        },
        "id": "ewo3jS2b8AXb",
        "outputId": "8cf2efcd-a4d8-401b-bb8c-ab686f737b57"
      },
      "execution_count": 50,
      "outputs": [
        {
          "output_type": "stream",
          "name": "stdout",
          "text": [
            "21\n"
          ]
        }
      ]
    },
    {
      "cell_type": "code",
      "source": [
        "power = 7 ** 3\n",
        "print(power)"
      ],
      "metadata": {
        "colab": {
          "base_uri": "https://localhost:8080/"
        },
        "id": "AwsrCZSf8GYa",
        "outputId": "c99377a8-fa46-423d-9172-666ee9087305"
      },
      "execution_count": 51,
      "outputs": [
        {
          "output_type": "stream",
          "name": "stdout",
          "text": [
            "343\n"
          ]
        }
      ]
    },
    {
      "cell_type": "code",
      "source": [
        "lista = [\"Kids\"] * 2\n",
        "print(lista)"
      ],
      "metadata": {
        "colab": {
          "base_uri": "https://localhost:8080/"
        },
        "id": "fD2qLnbY8NT_",
        "outputId": "4369b958-a120-46bc-ceea-61047bc37aae"
      },
      "execution_count": 52,
      "outputs": [
        {
          "output_type": "stream",
          "name": "stdout",
          "text": [
            "['Kids', 'Kids']\n"
          ]
        }
      ]
    },
    {
      "cell_type": "code",
      "source": [
        "def fun(*args, **kwargs):\n",
        "    for i in args:\n",
        "        print(args)\n",
        "    for key, value in kwargs.items():\n",
        "        print(f\"{key} -> {value}\")\n",
        "fun(1, 2, 3, 4, a = 5, b = 6)"
      ],
      "metadata": {
        "colab": {
          "base_uri": "https://localhost:8080/"
        },
        "id": "mVjml8z-8Zbe",
        "outputId": "9959cda3-7989-4843-df23-2f4721ad43a9"
      },
      "execution_count": 53,
      "outputs": [
        {
          "output_type": "stream",
          "name": "stdout",
          "text": [
            "(1, 2, 3, 4)\n",
            "(1, 2, 3, 4)\n",
            "(1, 2, 3, 4)\n",
            "(1, 2, 3, 4)\n",
            "a -> 5\n",
            "b -> 6\n"
          ]
        }
      ]
    },
    {
      "cell_type": "code",
      "source": [
        "def giftallotment(a, b, * , c):     #used to make it compulsory to use positional arguments\n",
        "    print(f\"Dad's gift: {a} \\nMom's gift: {b} \\nBrother's gift: {c}\")\n",
        "giftallotment(\"Dress\", \"Game pass\", c = \"Money Request\")"
      ],
      "metadata": {
        "colab": {
          "base_uri": "https://localhost:8080/"
        },
        "id": "KFRA3Qov9Gu7",
        "outputId": "c7684ce8-ed7d-4d73-e101-8cb09f0494d9"
      },
      "execution_count": 54,
      "outputs": [
        {
          "output_type": "stream",
          "name": "stdout",
          "text": [
            "Dad's gift: Dress \n",
            "Mom's gift: Game pass \n",
            "Brother's gift: Money Request\n"
          ]
        }
      ]
    },
    {
      "cell_type": "code",
      "source": [
        "nums = (1, 2, 3, 4, 5, 6, 7, 8, 9, 0)\n",
        "first, second, *middle, secondlast, last = nums\n",
        "print(first, second, middle, secondlast, last)"
      ],
      "metadata": {
        "colab": {
          "base_uri": "https://localhost:8080/"
        },
        "id": "qfuUr1zC_rFE",
        "outputId": "cb206fc1-30bd-4913-f310-1ec79d1c6f80"
      },
      "execution_count": 55,
      "outputs": [
        {
          "output_type": "stream",
          "name": "stdout",
          "text": [
            "1 2 [3, 4, 5, 6, 7, 8] 9 0\n"
          ]
        }
      ]
    }
  ]
}