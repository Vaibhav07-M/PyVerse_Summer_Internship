{
  "cells": [
    {
      "cell_type": "markdown",
      "metadata": {
        "id": "JO7A41pTwOYh"
      },
      "source": [
        "### Importance of Generators"
      ]
    },
    {
      "cell_type": "code",
      "execution_count": 19,
      "metadata": {
        "id": "1_2beDmav8qS"
      },
      "outputs": [],
      "source": [
        "from math import sqrt\n",
        "import time\n",
        "import tracemalloc\n",
        "\n",
        "N = 10 ** 7"
      ]
    },
    {
      "cell_type": "code",
      "execution_count": 20,
      "metadata": {
        "colab": {
          "base_uri": "https://localhost:8080/"
        },
        "id": "vAkBb1n7wbwp",
        "outputId": "0f46d7c2-a80a-4621-c1bf-c6d4595c99d0"
      },
      "outputs": [
        {
          "name": "stdout",
          "output_type": "stream",
          "text": [
            "\n",
            "--- List Comprehension ---\n",
            "Total: 21081849486.44\n",
            "Time: 14.6482 seconds\n",
            "Peak Memory: 313.88 MB\n"
          ]
        }
      ],
      "source": [
        "N = 10 ** 7\n",
        "def run_list():\n",
        "    print(\"\\n--- List Comprehension ---\")\n",
        "    tracemalloc.start()\n",
        "    t1 = time.perf_counter()\n",
        "\n",
        "    nums = [sqrt(x) for x in range(N)]  # list comprehension\n",
        "    total = sum(nums)                   # force evaluation\n",
        "\n",
        "    t2 = time.perf_counter()\n",
        "    current, peak = tracemalloc.get_traced_memory()\n",
        "    tracemalloc.stop()\n",
        "\n",
        "    print(f\"Total: {total:.2f}\")\n",
        "    print(f\"Time: {t2 - t1:.4f} seconds\")\n",
        "    print(f\"Peak Memory: {peak / 1024 / 1024:.2f} MB\")\n",
        "run_list()"
      ]
    },
    {
      "cell_type": "code",
      "execution_count": 21,
      "metadata": {
        "colab": {
          "base_uri": "https://localhost:8080/"
        },
        "id": "t68AEWjDwqlF",
        "outputId": "e765df95-cb92-4ccb-ec96-12a7da6847a5"
      },
      "outputs": [
        {
          "name": "stdout",
          "output_type": "stream",
          "text": [
            "\n",
            "--- Generator Expression ---\n",
            "Total: 21081849486.44\n",
            "Time: 7.9005 seconds\n",
            "Peak Memory: 0.07 MB\n"
          ]
        }
      ],
      "source": [
        "def run_generator():\n",
        "    print(\"\\n--- Generator Expression ---\")\n",
        "    tracemalloc.start()\n",
        "    t1 = time.perf_counter()\n",
        "\n",
        "    nums = (sqrt(x) for x in range(N))  # generator expression\n",
        "    total = sum(nums)                   # force evaluation\n",
        "\n",
        "    t2 = time.perf_counter()\n",
        "    current, peak = tracemalloc.get_traced_memory()\n",
        "    tracemalloc.stop()\n",
        "\n",
        "    print(f\"Total: {total:.2f}\")\n",
        "    print(f\"Time: {t2 - t1:.4f} seconds\")\n",
        "    print(f\"Peak Memory: {peak / 1024 / 1024:.2f} MB\")\n",
        "run_generator()"
      ]
    },
    {
      "cell_type": "markdown",
      "metadata": {
        "id": "t8QRySq9zTAH"
      },
      "source": [
        "###List comprehension VS Generators"
      ]
    },
    {
      "cell_type": "code",
      "execution_count": 22,
      "metadata": {
        "colab": {
          "base_uri": "https://localhost:8080/"
        },
        "id": "2uf-k5ntxncg",
        "outputId": "e3bbca28-c1a0-44da-af06-b9f051e8796e"
      },
      "outputs": [
        {
          "name": "stdout",
          "output_type": "stream",
          "text": [
            "[1.0, 1.4142135623730951, 1.7320508075688772, 2.0, 2.23606797749979, 2.449489742783178, 2.6457513110645907, 2.8284271247461903, 3.0]\n",
            "1.0 1.4142135623730951 1.7320508075688772 2.0 2.23606797749979 2.449489742783178 2.6457513110645907 2.8284271247461903 3.0 "
          ]
        }
      ],
      "source": [
        "from math import sqrt\n",
        "\n",
        "nums = [sqrt(x) for x in [1, 2, 3, 4, 5, 6, 7, 8, 9]]\n",
        "print(nums)\n",
        "\n",
        "for i in nums:\n",
        "  print(i, end=\" \")"
      ]
    },
    {
      "cell_type": "code",
      "execution_count": 23,
      "metadata": {
        "colab": {
          "base_uri": "https://localhost:8080/"
        },
        "id": "s_b2IANO0MWj",
        "outputId": "1883732c-23fc-44c6-d63b-18d6ecbb01f5"
      },
      "outputs": [
        {
          "name": "stdout",
          "output_type": "stream",
          "text": [
            "[1.0, 1.4142135623730951, 1.7320508075688772, 2.0, 2.23606797749979, 2.449489742783178, 2.6457513110645907, 2.8284271247461903, 3.0]\n"
          ]
        }
      ],
      "source": [
        "nums = (sqrt(x) for x in [1, 2, 3, 4, 5, 6, 7, 8, 9])\n",
        "print(list(nums))\n",
        "\n",
        "for i in nums:                #Doesn't print this because it do not store the values in values so only one time we can print either by loop or print\n",
        "  print(i, end=\" \")"
      ]
    },
    {
      "cell_type": "markdown",
      "metadata": {
        "id": "uovO7KfK1p7b"
      },
      "source": [
        "###More about Class"
      ]
    },
    {
      "cell_type": "code",
      "execution_count": 24,
      "metadata": {
        "colab": {
          "base_uri": "https://localhost:8080/"
        },
        "id": "WadJAJwn1vGX",
        "outputId": "ffd3287b-71ef-4822-8e35-26837a07f295"
      },
      "outputs": [
        {
          "name": "stdout",
          "output_type": "stream",
          "text": [
            "Dad's gift: Dress \n",
            "Mom's gift: Game pass \n",
            "Brother's gift: Money Request\n"
          ]
        }
      ],
      "source": [
        "def giftallotment(a, b, c):\n",
        "    print(f\"Dad's gift: {a} \\nMom's gift: {b} \\nBrother's gift: {c}\")\n",
        "\n",
        "giftallotment(\"Dress\", \"Game pass\", \"Money Request\")                        #Here we have to remember the order in which we are assigning the value\n",
        "                                                                            #so that no wrong value goes into other"
      ]
    },
    {
      "cell_type": "code",
      "execution_count": 25,
      "metadata": {
        "colab": {
          "base_uri": "https://localhost:8080/"
        },
        "id": "Rc6yoOvh1o95",
        "outputId": "6e41ec2f-d79b-44a8-c408-80c686946b6b"
      },
      "outputs": [
        {
          "name": "stdout",
          "output_type": "stream",
          "text": [
            "Dad's gift: Money Request \n",
            "Mom's gift: Dress \n",
            "Brother's gift: Game pass\n"
          ]
        }
      ],
      "source": [
        "def giftallotment(a, b, c):\n",
        "    print(f\"Dad's gift: {a} \\nMom's gift: {b} \\nBrother's gift: {c}\")\n",
        "\n",
        "giftallotment(b = \"Dress\", c = \"Game pass\", a = \"Money Request\")            #Here order doesn't matter you just have to assign the value to correct variable"
      ]
    },
    {
      "cell_type": "code",
      "execution_count": 26,
      "metadata": {
        "colab": {
          "base_uri": "https://localhost:8080/"
        },
        "id": "QojZvAXL23zv",
        "outputId": "ac1b2df1-4e65-4694-9973-64dfd87e5ba0"
      },
      "outputs": [
        {
          "name": "stdout",
          "output_type": "stream",
          "text": [
            "Dad's gift: Money Request \n",
            "Mom's gift: Dress \n",
            "Brother's gift: Game pass \n",
            "Sister's gift: Plushie\n"
          ]
        }
      ],
      "source": [
        "def giftallotment(a, b, c, d = \"Plushie\"):\n",
        "    print(f\"Dad's gift: {a} \\nMom's gift: {b} \\nBrother's gift: {c} \\nSister's gift: {d}\")\n",
        "                                                                    #Here we made one defalut value for the variables\n",
        "giftallotment(b = \"Dress\", c = \"Game pass\", a = \"Money Request\")    #So iF we forget to give them value a default value will be assigned to them"
      ]
    },
    {
      "cell_type": "code",
      "execution_count": 27,
      "metadata": {
        "colab": {
          "base_uri": "https://localhost:8080/"
        },
        "id": "fbHn0DCd3ria",
        "outputId": "63c00656-98d7-4d12-d53e-6dff23c31d15"
      },
      "outputs": [
        {
          "name": "stdout",
          "output_type": "stream",
          "text": [
            "Dad's gift: Money Request \n",
            "Mom's gift: Dress \n",
            "Brother's gift: Game pass\n"
          ]
        }
      ],
      "source": [
        "def giftallotment1(*args):\n",
        "    print(f\"Dad's gift: {args[2]} \\nMom's gift: {args[0]} \\nBrother's gift: {args[1]}\")\n",
        "                                                          #Here we used args to store the value of the variables\n",
        "giftallotment1(\"Dress\", \"Game pass\", \"Money Request\")     #in the order we have assigned to the class"
      ]
    },
    {
      "cell_type": "markdown",
      "metadata": {
        "id": "ALDoJyP34Nsi"
      },
      "source": [
        "###Global Variables"
      ]
    },
    {
      "cell_type": "code",
      "execution_count": 28,
      "metadata": {
        "id": "huPBPnXM4VOz"
      },
      "outputs": [],
      "source": [
        "globalvar = 100"
      ]
    },
    {
      "cell_type": "code",
      "execution_count": 29,
      "metadata": {
        "colab": {
          "base_uri": "https://localhost:8080/"
        },
        "id": "moIx2rvq4gGr",
        "outputId": "c0b33879-601e-45ac-d193-227327e8ff75"
      },
      "outputs": [
        {
          "name": "stdout",
          "output_type": "stream",
          "text": [
            "Before Local_var 100\n",
            "from inside 0\n",
            "After Local_var 100\n",
            "\n"
          ]
        }
      ],
      "source": [
        "def local_var():\n",
        "    globalvar = 0\n",
        "    print(f\"from inside {globalvar}\")\n",
        "\n",
        "print(f\"Before Local_var {globalvar}\")\n",
        "local_var()\n",
        "print(f\"After Local_var {globalvar}\\n\")"
      ]
    },
    {
      "cell_type": "code",
      "execution_count": 30,
      "metadata": {
        "colab": {
          "base_uri": "https://localhost:8080/"
        },
        "id": "Vy6BCF3u4hXr",
        "outputId": "cd5b9dab-b8da-4d8c-c5a8-40177cb50997"
      },
      "outputs": [
        {
          "name": "stdout",
          "output_type": "stream",
          "text": [
            "Before Global_var 100\n",
            "from inside (100, 0)\n",
            "After Global_var 0\n"
          ]
        }
      ],
      "source": [
        "def global_var():\n",
        "    global globalvar\n",
        "    x = globalvar\n",
        "    globalvar = 0\n",
        "    print(f\"from inside {x, globalvar}\")\n",
        "\n",
        "print(f\"Before Global_var {globalvar}\")\n",
        "global_var()\n",
        "print(f\"After Global_var {globalvar}\")"
      ]
    },
    {
      "cell_type": "markdown",
      "metadata": {
        "id": "P6cO2Sma784x"
      },
      "source": [
        "### Different uses of *"
      ]
    },
    {
      "cell_type": "code",
      "execution_count": 31,
      "metadata": {
        "colab": {
          "base_uri": "https://localhost:8080/"
        },
        "id": "ewo3jS2b8AXb",
        "outputId": "7c02ce45-5c9c-4377-d284-ad962370b4e5"
      },
      "outputs": [
        {
          "name": "stdout",
          "output_type": "stream",
          "text": [
            "21\n"
          ]
        }
      ],
      "source": [
        "mul = 7 * 3\n",
        "print(mul)"
      ]
    },
    {
      "cell_type": "code",
      "execution_count": 32,
      "metadata": {
        "colab": {
          "base_uri": "https://localhost:8080/"
        },
        "id": "AwsrCZSf8GYa",
        "outputId": "d82af051-9b07-46a4-c68a-e4ab7a06de20"
      },
      "outputs": [
        {
          "name": "stdout",
          "output_type": "stream",
          "text": [
            "343\n"
          ]
        }
      ],
      "source": [
        "power = 7 ** 3\n",
        "print(power)"
      ]
    },
    {
      "cell_type": "code",
      "execution_count": 33,
      "metadata": {
        "colab": {
          "base_uri": "https://localhost:8080/"
        },
        "id": "fD2qLnbY8NT_",
        "outputId": "5647fcd1-cc98-4288-8a06-d25e8c0623b3"
      },
      "outputs": [
        {
          "name": "stdout",
          "output_type": "stream",
          "text": [
            "['Kids', 'Kids']\n"
          ]
        }
      ],
      "source": [
        "lista = [\"Kids\"] * 2\n",
        "print(lista)"
      ]
    },
    {
      "cell_type": "code",
      "execution_count": 34,
      "metadata": {
        "colab": {
          "base_uri": "https://localhost:8080/"
        },
        "id": "mVjml8z-8Zbe",
        "outputId": "1c6fe74a-83eb-4a1d-d72d-69b142438799"
      },
      "outputs": [
        {
          "name": "stdout",
          "output_type": "stream",
          "text": [
            "(1, 2, 3, 4)\n",
            "(1, 2, 3, 4)\n",
            "(1, 2, 3, 4)\n",
            "(1, 2, 3, 4)\n",
            "a -> 5\n",
            "b -> 6\n"
          ]
        }
      ],
      "source": [
        "def fun(*args, **kwargs):\n",
        "    for i in args:\n",
        "        print(args)\n",
        "    for key, value in kwargs.items():\n",
        "        print(f\"{key} -> {value}\")\n",
        "fun(1, 2, 3, 4, a = 5, b = 6)"
      ]
    },
    {
      "cell_type": "code",
      "execution_count": 35,
      "metadata": {
        "colab": {
          "base_uri": "https://localhost:8080/"
        },
        "id": "KFRA3Qov9Gu7",
        "outputId": "5b04ef68-9fa4-431a-a700-9037e13b800c"
      },
      "outputs": [
        {
          "name": "stdout",
          "output_type": "stream",
          "text": [
            "Dad's gift: Dress \n",
            "Mom's gift: Game pass \n",
            "Brother's gift: Money Request\n"
          ]
        }
      ],
      "source": [
        "def giftallotment(a, b, * , c):     #used to make it compulsory to use positional arguments\n",
        "    print(f\"Dad's gift: {a} \\nMom's gift: {b} \\nBrother's gift: {c}\")\n",
        "giftallotment(\"Dress\", \"Game pass\", c = \"Money Request\")"
      ]
    },
    {
      "cell_type": "code",
      "execution_count": 36,
      "metadata": {
        "colab": {
          "base_uri": "https://localhost:8080/"
        },
        "id": "qfuUr1zC_rFE",
        "outputId": "1c2730e1-0afb-4ecd-c054-3477038d9509"
      },
      "outputs": [
        {
          "name": "stdout",
          "output_type": "stream",
          "text": [
            "(1, 2, 3, 4)\n",
            "(1, 2, 3, 4)\n",
            "(1, 2, 3, 4)\n",
            "(1, 2, 3, 4)\n",
            "a -> 5\n",
            "b -> 6\n"
          ]
        }
      ],
      "source": [
        "def fun(*args, **kwargs):\n",
        "    for i in args:\n",
        "        print(args)\n",
        "    for key, value in kwargs.items():\n",
        "        print(f\"{key} -> {value}\")\n",
        "fun(1, 2, 3, 4, a = 5, b = 6)\n"
      ]
    }
  ],
  "metadata": {
    "colab": {
      "provenance": []
    },
    "kernelspec": {
      "display_name": "Python 3",
      "name": "python3"
    },
    "language_info": {
      "name": "python",
      "version": "3.13.5"
    }
  },
  "nbformat": 4,
  "nbformat_minor": 0
}
