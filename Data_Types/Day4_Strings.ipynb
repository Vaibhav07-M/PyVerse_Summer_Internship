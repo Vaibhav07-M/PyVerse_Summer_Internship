{
  "nbformat": 4,
  "nbformat_minor": 0,
  "metadata": {
    "colab": {
      "provenance": []
    },
    "kernelspec": {
      "name": "python3",
      "display_name": "Python 3"
    },
    "language_info": {
      "name": "python"
    }
  },
  "cells": [
    {
      "cell_type": "code",
      "execution_count": 21,
      "metadata": {
        "colab": {
          "base_uri": "https://localhost:8080/"
        },
        "id": "WYrqBxJzlLkU",
        "outputId": "840ac90e-dbb1-45ca-a262-099714981d47"
      },
      "outputs": [
        {
          "output_type": "stream",
          "name": "stdout",
          "text": [
            "this is a string \n"
          ]
        }
      ],
      "source": [
        "str1 = \"this is a string \"\n",
        "print(str1)"
      ]
    },
    {
      "cell_type": "code",
      "source": [
        "str2 = \"\"\"This\n",
        "is a\n",
        "multiline\n",
        "string\"\"\"\n",
        "print(str2)"
      ],
      "metadata": {
        "colab": {
          "base_uri": "https://localhost:8080/"
        },
        "id": "yW7o4rPimdyN",
        "outputId": "d0739093-31ff-4bbb-a8e3-b7015834cd1d"
      },
      "execution_count": 22,
      "outputs": [
        {
          "output_type": "stream",
          "name": "stdout",
          "text": [
            "This \n",
            "is a \n",
            "multiline \n",
            "string\n"
          ]
        }
      ]
    },
    {
      "cell_type": "code",
      "source": [
        "str3 = \"\"\"This is\n",
        "also a\n",
        "multiline \\\n",
        "string \"\"\"\n",
        "print(str3)"
      ],
      "metadata": {
        "colab": {
          "base_uri": "https://localhost:8080/"
        },
        "id": "dflXxCPom2MI",
        "outputId": "81da27f2-a7b6-4558-a3d4-d27911080d91"
      },
      "execution_count": 23,
      "outputs": [
        {
          "output_type": "stream",
          "name": "stdout",
          "text": [
            "This is \n",
            "also a \n",
            "multiline string \n"
          ]
        }
      ]
    },
    {
      "cell_type": "code",
      "source": [
        "str4 = \"Geralt of the Riva\"\n",
        "print(str4[0:6:1])"
      ],
      "metadata": {
        "colab": {
          "base_uri": "https://localhost:8080/"
        },
        "id": "8nERiKvynVNv",
        "outputId": "9ce9e86f-eaab-4979-f77d-dc688a196a73"
      },
      "execution_count": 24,
      "outputs": [
        {
          "output_type": "stream",
          "name": "stdout",
          "text": [
            "Geralt\n"
          ]
        }
      ]
    },
    {
      "cell_type": "code",
      "source": [
        "for i in str4:\n",
        "  print(i, end=\" \")"
      ],
      "metadata": {
        "colab": {
          "base_uri": "https://localhost:8080/"
        },
        "id": "sYvSFlKUnVWe",
        "outputId": "63bf05d4-a0d2-4343-891a-b8b77fcd3887"
      },
      "execution_count": 25,
      "outputs": [
        {
          "output_type": "stream",
          "name": "stdout",
          "text": [
            "G e r a l t   o f   t h e   R i v a "
          ]
        }
      ]
    },
    {
      "cell_type": "code",
      "source": [
        "if \"Geralt\" in str4:\n",
        "  print(\"Geralt is present\")"
      ],
      "metadata": {
        "colab": {
          "base_uri": "https://localhost:8080/"
        },
        "id": "ULiKjzMGnVbx",
        "outputId": "30fb0fe9-d059-4e36-b20d-9bbe7c291c62"
      },
      "execution_count": 26,
      "outputs": [
        {
          "output_type": "stream",
          "name": "stdout",
          "text": [
            "Geralt is present\n"
          ]
        }
      ]
    },
    {
      "cell_type": "code",
      "source": [
        "str5 = \"   The Human torch is a Marvel Character    \"\n",
        "print(str5.strip())"
      ],
      "metadata": {
        "colab": {
          "base_uri": "https://localhost:8080/"
        },
        "id": "cXGZrbtknVg-",
        "outputId": "9bce84b8-1cd9-4fa3-a20c-df40ed1467d4"
      },
      "execution_count": 27,
      "outputs": [
        {
          "output_type": "stream",
          "name": "stdout",
          "text": [
            "The Human torch is a Marvel Character\n"
          ]
        }
      ]
    },
    {
      "cell_type": "code",
      "source": [
        "str6 = \"The wonders of the world\"\n",
        "print(str6.lower() + \" || \" + str6.upper())"
      ],
      "metadata": {
        "colab": {
          "base_uri": "https://localhost:8080/"
        },
        "id": "12pz_r_NnVll",
        "outputId": "bcc18195-f9fa-42ca-a7e4-90fa120e853c"
      },
      "execution_count": 28,
      "outputs": [
        {
          "output_type": "stream",
          "name": "stdout",
          "text": [
            "the wonders of the world || THE WONDERS OF THE WORLD\n"
          ]
        }
      ]
    },
    {
      "cell_type": "code",
      "source": [
        "print(str6.startswith(\"The\"))\n",
        "print(str6.endswith(\"world\"))"
      ],
      "metadata": {
        "colab": {
          "base_uri": "https://localhost:8080/"
        },
        "id": "8Q4Y6ehprU3v",
        "outputId": "a6becc04-a291-49af-e2f8-4c911fd825db"
      },
      "execution_count": 29,
      "outputs": [
        {
          "output_type": "stream",
          "name": "stdout",
          "text": [
            "True\n",
            "True\n"
          ]
        }
      ]
    },
    {
      "cell_type": "code",
      "source": [
        "print(str6.find(\"The\"))\n",
        "print(str6.find(\"the\"))"
      ],
      "metadata": {
        "colab": {
          "base_uri": "https://localhost:8080/"
        },
        "id": "ltZ8K-SRrVn7",
        "outputId": "59f6ef74-3dd9-42b3-8df1-2d9e26a52282"
      },
      "execution_count": 31,
      "outputs": [
        {
          "output_type": "stream",
          "name": "stdout",
          "text": [
            "0\n",
            "15\n"
          ]
        }
      ]
    },
    {
      "cell_type": "code",
      "source": [
        "print(str6.replace(\"world\",\"World\"))"
      ],
      "metadata": {
        "colab": {
          "base_uri": "https://localhost:8080/"
        },
        "id": "WRt301B0rVyp",
        "outputId": "b1560e01-b455-4ed2-a1a7-ab981dd56ae6"
      },
      "execution_count": 32,
      "outputs": [
        {
          "output_type": "stream",
          "name": "stdout",
          "text": [
            "The wonders of the World\n"
          ]
        }
      ]
    },
    {
      "cell_type": "code",
      "source": [
        "str7 = \"Suzuki Yamada Inoske Nakamura\"\n",
        "list1 = str7.split()\n",
        "print(list1)"
      ],
      "metadata": {
        "colab": {
          "base_uri": "https://localhost:8080/"
        },
        "id": "VuXj0YT2vPP2",
        "outputId": "e58531b8-a756-410f-ad84-b067c509b5bf"
      },
      "execution_count": 34,
      "outputs": [
        {
          "output_type": "stream",
          "name": "stdout",
          "text": [
            "['Suzuki', 'Yamada', 'Inoske', 'Nakamura']\n"
          ]
        }
      ]
    },
    {
      "cell_type": "code",
      "source": [
        "str8=\" \".join(list1)\n",
        "print(str8)"
      ],
      "metadata": {
        "colab": {
          "base_uri": "https://localhost:8080/"
        },
        "id": "PRhjmXakwbCJ",
        "outputId": "b5b9ccfc-4a96-4896-9d61-f6eb8d825388"
      },
      "execution_count": 37,
      "outputs": [
        {
          "output_type": "stream",
          "name": "stdout",
          "text": [
            "Suzuki Yamada Inoske Nakamura\n"
          ]
        }
      ]
    },
    {
      "cell_type": "code",
      "source": [
        "str9 = \"This\"\n",
        "str10 = \"Print\"\n",
        "print(f\"{str9} is {str10}\")"
      ],
      "metadata": {
        "colab": {
          "base_uri": "https://localhost:8080/"
        },
        "id": "1wrC0FTFxH3M",
        "outputId": "d7a07723-e427-4991-af35-914074c77b84"
      },
      "execution_count": 38,
      "outputs": [
        {
          "output_type": "stream",
          "name": "stdout",
          "text": [
            "This is Print\n"
          ]
        }
      ]
    }
  ]
}