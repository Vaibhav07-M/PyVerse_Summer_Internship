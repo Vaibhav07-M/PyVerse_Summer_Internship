{
  "nbformat": 4,
  "nbformat_minor": 0,
  "metadata": {
    "colab": {
      "provenance": []
    },
    "kernelspec": {
      "name": "python3",
      "display_name": "Python 3"
    },
    "language_info": {
      "name": "python"
    }
  },
  "cells": [
    {
      "cell_type": "code",
      "execution_count": 1,
      "metadata": {
        "colab": {
          "base_uri": "https://localhost:8080/"
        },
        "id": "FRBxVAV-wNBP",
        "outputId": "c380c5a6-264b-4cc3-c833-9f3958e2bf27"
      },
      "outputs": [
        {
          "output_type": "stream",
          "name": "stdout",
          "text": [
            "1\n",
            "0\n",
            "[]\n",
            "['zebra', 'panda', 'giraffe', 'elephant']\n",
            "3\n",
            "2\n",
            "(30, 28, 35, 28, 26, 28)\n",
            "Rahul\n",
            "dict_keys(['name', 'age', 'location'])\n",
            "dict_values(['Rahul', 31, 'Mumbai'])\n",
            "dict_items([('name', 'Rahul'), ('age', 31), ('location', 'Mumbai')])\n",
            "{}\n",
            "{'name': 'Rahul', 'age': 31, 'location': 'Mumbai'}\n"
          ]
        }
      ],
      "source": [
        "# Lists\n",
        "animals = [\"lion\", \"tiger\", \"elephant\"]\n",
        "animals.append(\"zebra\")\n",
        "animals.extend([\"giraffe\", \"rhino\"])\n",
        "animals.insert(1, \"panda\")\n",
        "animals.remove(\"tiger\")\n",
        "animals.pop()\n",
        "animals.pop(0)\n",
        "print(animals.index(\"elephant\"))\n",
        "print(animals.count(\"lion\"))\n",
        "animals.sort()\n",
        "animals.reverse()\n",
        "copied_list = animals.copy()\n",
        "animals.clear()\n",
        "print(animals)\n",
        "print(copied_list)\n",
        "\n",
        "# Tuples\n",
        "temperatures = (32, 28, 35, 28, 26, 28)\n",
        "print(temperatures.count(28))\n",
        "print(temperatures.index(35))\n",
        "temp_list = list(temperatures)\n",
        "temp_list[0] = 30\n",
        "temperatures = tuple(temp_list)\n",
        "print(temperatures)\n",
        "\n",
        "# Dictionaries\n",
        "employee = {\"name\": \"Rahul\", \"age\": 30, \"department\": \"Sales\"}\n",
        "print(employee.get(\"name\"))\n",
        "employee[\"age\"] = 31\n",
        "employee[\"promoted\"] = True\n",
        "employee.pop(\"department\")\n",
        "employee.popitem()\n",
        "employee.update({\"location\": \"Mumbai\"})\n",
        "print(employee.keys())\n",
        "print(employee.values())\n",
        "print(employee.items())\n",
        "copied_dict = employee.copy()\n",
        "employee.clear()\n",
        "print(employee)\n",
        "print(copied_dict)\n"
      ]
    }
  ]
}