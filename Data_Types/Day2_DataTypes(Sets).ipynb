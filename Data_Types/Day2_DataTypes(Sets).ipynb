{
  "nbformat": 4,
  "nbformat_minor": 0,
  "metadata": {
    "colab": {
      "provenance": []
    },
    "kernelspec": {
      "name": "python3",
      "display_name": "Python 3"
    },
    "language_info": {
      "name": "python"
    }
  },
  "cells": [
    {
      "cell_type": "code",
      "execution_count": 2,
      "metadata": {
        "colab": {
          "base_uri": "https://localhost:8080/"
        },
        "id": "QWesA8_18-6H",
        "outputId": "fc8dc4e6-413f-498c-b517-f8141e459061"
      },
      "outputs": [
        {
          "output_type": "stream",
          "name": "stdout",
          "text": [
            "{1, 2, 3, 4, 5, 6, 7, 8, 9, 10}\n",
            "{2, 4, 6, 8, 10}\n",
            "{1, 3, 5, 7, 9}\n",
            "{5, 6, 7, 8, 9, 10, 11, 12, 13, 14, 15, 16, 17, 18, 19, 20}\n",
            "{5, 6, 7, 8, 9, 10, 11, 12, 13, 14, 15, 16, 17, 18, 19, 20}\n",
            "True\n",
            "False\n",
            "True\n",
            "True\n",
            "{1, 2}\n",
            "{1, 2, 3, 4, 5, 6, 7, 8, 9, 10}\n",
            "{1, 2, 3, 4, 5, 6, 7, 8, 9, 10, 11}\n",
            "{1, 2, 3, 4, 5, 6, 7, 8, 9, 10}\n",
            "<class 'set'>\n",
            "{1, 2, 3, 4, 5}\n",
            "{1, 2, 3, 4, 5} {1, 2, 3, 4, 5, 6}\n",
            "<class 'set'> {'sample name'}\n",
            "Frozen set: frozenset({1, 2, 3, 4})\n"
          ]
        }
      ],
      "source": [
        "even = {2, 4, 6, 8, 10}\n",
        "odd = {1, 3, 5, 7, 9}\n",
        "natural = {1, 2, 3, 4, 5, 6, 7, 8, 9, 10}\n",
        "natural1 = {1, 2, 3, 4, 11, 12, 13, 14, 15, 16, 17, 18, 19, 20}\n",
        "\n",
        "print(even.union(odd))\n",
        "print(even.intersection(natural))\n",
        "print(natural.difference(even))\n",
        "print(natural.symmetric_difference(natural1))\n",
        "print(natural1.symmetric_difference(natural))\n",
        "print(even.issubset(natural))\n",
        "print(natural.issubset(even))\n",
        "print(natural.issuperset(even))\n",
        "print(even.isdisjoint(odd))\n",
        "\n",
        "set1 = {1, 2, 3, 4, 5}\n",
        "set2 = {3, 4, 5, 6, 7}\n",
        "set1.difference_update(set2)\n",
        "print(set1)\n",
        "\n",
        "set3 = {1, 2, 3, 4, 5}\n",
        "set4 = {6, 7, 8, 9, 10}\n",
        "set3.update(set4)\n",
        "print(set3)\n",
        "\n",
        "set3.add(11)\n",
        "print(set3)\n",
        "\n",
        "set3.discard(11)\n",
        "print(set3)\n",
        "\n",
        "set5 = {1, 2, 3, 4, 5}\n",
        "set6 = set()\n",
        "print(type(set6))\n",
        "\n",
        "set6 = set5.copy()\n",
        "print(set6)\n",
        "\n",
        "set6.add(6)\n",
        "print(set5, set6)\n",
        "\n",
        "set7 = {\"sample name\"}\n",
        "print(type(set7), set7)\n",
        "\n",
        "frozen_example = frozenset([1, 2, 3, 4])\n",
        "print(f\"Frozen set: {frozen_example}\")\n"
      ]
    }
  ]
}