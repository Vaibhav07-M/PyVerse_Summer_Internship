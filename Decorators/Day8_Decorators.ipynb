{
  "nbformat": 4,
  "nbformat_minor": 0,
  "metadata": {
    "colab": {
      "provenance": []
    },
    "kernelspec": {
      "name": "python3",
      "display_name": "Python 3"
    },
    "language_info": {
      "name": "python"
    }
  },
  "cells": [
    {
      "cell_type": "markdown",
      "source": [
        "###Intro Decorators"
      ],
      "metadata": {
        "id": "KMIWEpZ1Jh6O"
      }
    },
    {
      "cell_type": "code",
      "execution_count": 2,
      "metadata": {
        "colab": {
          "base_uri": "https://localhost:8080/"
        },
        "id": "twftcS7VJDjX",
        "outputId": "df3a78e1-2819-4473-e45c-1e03c65db9c6"
      },
      "outputs": [
        {
          "output_type": "stream",
          "name": "stdout",
          "text": [
            "I am a cat\n",
            "what sound does it make?\n",
            "meow\n"
          ]
        }
      ],
      "source": [
        "def decorator_func(func):\n",
        "    def wrapper():\n",
        "        print(\"I am a cat\")\n",
        "        func()\n",
        "        print(\"meow\")\n",
        "    return wrapper\n",
        "\n",
        "@decorator_func\n",
        "def identity():\n",
        "    print(\"what sound does it make?\")\n",
        "\n",
        "identity()"
      ]
    },
    {
      "cell_type": "markdown",
      "source": [
        "###Authentication Program"
      ],
      "metadata": {
        "id": "uTDRahF_JxPX"
      }
    },
    {
      "cell_type": "code",
      "source": [
        "from functools import wraps\n",
        "\n",
        "USER_DB = {\n",
        "    \"vaibhav\": {\"username\": \"Vaibhav\", \"is_authenticated\": True},\n",
        "    \"guest\": {\"username\": \"Guest\", \"is_authenticated\": False},\n",
        "    \"admin\": {\"username\": \"Admin\", \"is_authenticated\": True}\n",
        "}\n",
        "\n",
        "def requires_authentication(func):\n",
        "    @wraps(func)\n",
        "    def wrapper(*args, **kwargs):\n",
        "        user = kwargs.get('user')\n",
        "        if not user or not user.get(\"is_authenticated\"):\n",
        "            print(\"Access denied: User not authenticated\")\n",
        "            return \"Unauthorized access\"\n",
        "        print(f\"Access granted to {user['username']}\")\n",
        "        return func(*args, **kwargs)\n",
        "    return wrapper\n",
        "\n",
        "\n",
        "@requires_authentication\n",
        "def view_dashboard(*, user):\n",
        "    return f\"Welcome to the dashboard, {user['username']}!\"\n",
        "\n",
        "def main():\n",
        "    username = input(\"Enter your username: \").strip().lower()\n",
        "    user = USER_DB.get(username)\n",
        "    if not user:\n",
        "        print(\"User not found. Access denied.\")\n",
        "        return\n",
        "\n",
        "    result = view_dashboard(user = user)\n",
        "    print(result)\n",
        "\n",
        "main()"
      ],
      "metadata": {
        "colab": {
          "base_uri": "https://localhost:8080/"
        },
        "id": "S0UR-mgLKxg1",
        "outputId": "df2e1b7a-ed4b-46f0-de57-cdb16c601ed4"
      },
      "execution_count": 3,
      "outputs": [
        {
          "output_type": "stream",
          "name": "stdout",
          "text": [
            "Enter your username: Vaibhav\n",
            "Access granted to Vaibhav\n",
            "Welcome to the dashboard, Vaibhav!\n"
          ]
        }
      ]
    },
    {
      "cell_type": "markdown",
      "source": [
        "###Voting program"
      ],
      "metadata": {
        "id": "6q-gOUA7KzgA"
      }
    },
    {
      "cell_type": "code",
      "source": [
        "import functools\n",
        "\n",
        "def repeat_fun(number_of_times):\n",
        "    def decorator_func(func):\n",
        "        def wrapper(*args):\n",
        "            yaria = 0\n",
        "            angela = 0\n",
        "            for i in range(number_of_times):\n",
        "                char = func(*args)\n",
        "                if char == \"cinnamorol\":\n",
        "                    print(\"Awww Cinnamorol! that's sweet!\")\n",
        "                    yaria += 1\n",
        "                elif char == \"kuromi\":\n",
        "                    print(\"Hehe Kuromi hmmmmmmm!\")\n",
        "                    angela += 1\n",
        "                elif char == \"result\":\n",
        "                    print(f\"Cinnamorol: {yaria}   |   Kuromi: {angela}\")\n",
        "                    break\n",
        "                else:\n",
        "                    print(\"Bye kitty! Don't know this character.\")\n",
        "        return wrapper\n",
        "    return decorator_func\n",
        "\n",
        "@repeat_fun(number_of_times = 100)\n",
        "def ques():\n",
        "    return input(\"Vote for your favourite Sanrio plusie? \\n 1.Kuromi \\n 2.Cinnamorol\\n 3.result\\n\").strip().lower()\n",
        "\n",
        "ques()"
      ],
      "metadata": {
        "colab": {
          "base_uri": "https://localhost:8080/"
        },
        "id": "FBbWu7ysMzxw",
        "outputId": "0c4b1762-7364-4147-94e2-bb04af006888"
      },
      "execution_count": 6,
      "outputs": [
        {
          "output_type": "stream",
          "name": "stdout",
          "text": [
            "Vote for your favourite Sanrio plusie? \n",
            " 1.Kuromi \n",
            " 2.Cinnamorol\n",
            " 3.result\n",
            "kuromi\n",
            "Hehe Kuromi hmmmmmmm!\n",
            "Vote for your favourite Sanrio plusie? \n",
            " 1.Kuromi \n",
            " 2.Cinnamorol\n",
            " 3.result\n",
            "cinnamorol\n",
            "Awww Cinnamorol! that's sweet!\n",
            "Vote for your favourite Sanrio plusie? \n",
            " 1.Kuromi \n",
            " 2.Cinnamorol\n",
            " 3.result\n",
            "kuromi\n",
            "Hehe Kuromi hmmmmmmm!\n",
            "Vote for your favourite Sanrio plusie? \n",
            " 1.Kuromi \n",
            " 2.Cinnamorol\n",
            " 3.result\n",
            "result\n",
            "Cinnamorol: 1   |   Kuromi: 2\n"
          ]
        }
      ]
    }
  ]
}