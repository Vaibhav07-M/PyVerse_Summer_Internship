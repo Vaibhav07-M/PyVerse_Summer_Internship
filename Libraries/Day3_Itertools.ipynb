{
  "cells": [
    {
      "cell_type": "code",
      "execution_count": 15,
      "metadata": {
        "colab": {
          "base_uri": "https://localhost:8080/"
        },
        "id": "RSclCQ5ZBUDT",
        "outputId": "683508a9-ce49-4805-9ee4-f5340c1988e1"
      },
      "outputs": [
        {
          "name": "stdout",
          "output_type": "stream",
          "text": [
            "[(1, 3), (1, 4), (2, 3), (2, 4)]\n",
            "[(1, 3, 1, 3), (1, 3, 2, 3), (2, 3, 1, 3), (2, 3, 2, 3)]\n"
          ]
        }
      ],
      "source": [
        "from itertools import product\n",
        "\n",
        "a = [1, 2]\n",
        "b = [3, 4]\n",
        "prod = product(a, b)\n",
        "print(list(prod))\n",
        "\n",
        "a = [1, 2]\n",
        "b = [3]\n",
        "prod = product(a, b, repeat=2)\n",
        "print(list(prod))\n"
      ]
    },
    {
      "cell_type": "code",
      "execution_count": 2,
      "metadata": {
        "colab": {
          "base_uri": "https://localhost:8080/"
        },
        "id": "ipBMCTfVBoHp",
        "outputId": "0f304d14-e5a0-4f89-838a-388966ecbadd"
      },
      "outputs": [
        {
          "name": "stdout",
          "output_type": "stream",
          "text": [
            "[(1, 2, 3), (1, 3, 2), (2, 1, 3), (2, 3, 1), (3, 1, 2), (3, 2, 1)]\n",
            "[(1, 2), (1, 3), (2, 1), (2, 3), (3, 1), (3, 2)]\n"
          ]
        }
      ],
      "source": [
        "from itertools import permutations\n",
        "\n",
        "c = [1, 2, 3]\n",
        "perm = permutations(c)\n",
        "print(list(perm))\n",
        "perm = permutations(c, 2)\n",
        "print(list(perm))\n"
      ]
    },
    {
      "cell_type": "code",
      "execution_count": 17,
      "metadata": {
        "colab": {
          "base_uri": "https://localhost:8080/"
        },
        "id": "yDHrVpzIBqi8",
        "outputId": "fc9fe526-a0b2-4c1b-fd70-2f61310830bc"
      },
      "outputs": [
        {
          "name": "stdout",
          "output_type": "stream",
          "text": [
            "[(1, 2), (1, 3), (1, 4), (2, 3), (2, 4), (3, 4)]\n"
          ]
        }
      ],
      "source": [
        "from itertools import combinations\n",
        "\n",
        "d = [1, 2, 3, 4]\n",
        "comb = combinations(d, 2)\n",
        "print(list(comb))\n"
      ]
    },
    {
      "cell_type": "code",
      "execution_count": 18,
      "metadata": {
        "colab": {
          "base_uri": "https://localhost:8080/"
        },
        "id": "YAFpmXZoBs-O",
        "outputId": "336c3629-d630-4dc7-c680-536cbe1e701c"
      },
      "outputs": [
        {
          "name": "stdout",
          "output_type": "stream",
          "text": [
            "[(1, 1), (1, 2), (1, 3), (1, 4), (2, 2), (2, 3), (2, 4), (3, 3), (3, 4), (4, 4)]\n"
          ]
        }
      ],
      "source": [
        "from itertools import combinations_with_replacement\n",
        "\n",
        "d = [1, 2, 3, 4]\n",
        "comb = combinations_with_replacement(d, 2)\n",
        "print(list(comb))\n"
      ]
    },
    {
      "cell_type": "code",
      "execution_count": 19,
      "metadata": {
        "colab": {
          "base_uri": "https://localhost:8080/"
        },
        "id": "aCU0AuknBxbF",
        "outputId": "204bf650-b7ab-4565-8485-8abbb1cc00e6"
      },
      "outputs": [
        {
          "name": "stdout",
          "output_type": "stream",
          "text": [
            "[1, 3, 6, 10]\n",
            "[1, 2, 6, 24]\n"
          ]
        }
      ],
      "source": [
        "from itertools import accumulate\n",
        "\n",
        "d = [1, 2, 3, 4]\n",
        "acc = accumulate(d)\n",
        "print(list(acc))\n",
        "\n",
        "import operator\n",
        "\n",
        "acc = accumulate(d, func=operator.mul)\n",
        "print(list(acc))\n"
      ]
    },
    {
      "cell_type": "code",
      "execution_count": 20,
      "metadata": {
        "colab": {
          "base_uri": "https://localhost:8080/"
        },
        "id": "8ejFY6BNCDy4",
        "outputId": "f8bea32f-dea7-4dfb-fb95-53b10e35a66e"
      },
      "outputs": [
        {
          "name": "stdout",
          "output_type": "stream",
          "text": [
            "False [1, 2, 3, 4]\n",
            "True [5, 6, 7, 8, 9]\n"
          ]
        }
      ],
      "source": [
        "from itertools import groupby\n",
        "\n",
        "def larger_than_4(a):\n",
        "    return a > 4\n",
        "list1 = [1, 2, 3, 4, 5, 6, 7, 8, 9]\n",
        "group = groupby(list1, key=larger_than_4)\n",
        "\n",
        "for key, value in group:\n",
        "    print(key, list(value))\n"
      ]
    },
    {
      "cell_type": "code",
      "execution_count": 21,
      "metadata": {
        "colab": {
          "base_uri": "https://localhost:8080/"
        },
        "id": "V2dl6gb0CJDo",
        "outputId": "100501c4-2e6e-4a96-f0c3-ad6b679de3c4"
      },
      "outputs": [
        {
          "name": "stdout",
          "output_type": "stream",
          "text": [
            "100 101 102 103 104 105 106 107 108 109 110 111 "
          ]
        }
      ],
      "source": [
        "from itertools import count\n",
        "\n",
        "for i in count(100):\n",
        "    print(i, end=\" \")\n",
        "    if i == 111:\n",
        "        break\n"
      ]
    },
    {
      "cell_type": "code",
      "execution_count": 22,
      "metadata": {
        "colab": {
          "base_uri": "https://localhost:8080/"
        },
        "id": "A2izFPpzCLjA",
        "outputId": "6b47ac14-ec3f-4d28-86e7-fcdbf162395d"
      },
      "outputs": [
        {
          "name": "stdout",
          "output_type": "stream",
          "text": [
            "1 2 3 4 5 6 7 8 9 10 1 2 3 4 "
          ]
        }
      ],
      "source": [
        "from itertools import cycle\n",
        "\n",
        "list1 = [1, 2, 3, 4, 5, 6, 7, 8, 9, 10]\n",
        "count = 0\n",
        "for i in cycle(list1):\n",
        "    print(i, end=\" \")\n",
        "    count += 1\n",
        "    if count == 14:\n",
        "        break\n"
      ]
    },
    {
      "cell_type": "code",
      "execution_count": 23,
      "metadata": {
        "colab": {
          "base_uri": "https://localhost:8080/"
        },
        "id": "Epb8dhWxCOWu",
        "outputId": "e92ee154-c2a4-457a-b035-54237b4f0030"
      },
      "outputs": [
        {
          "name": "stdout",
          "output_type": "stream",
          "text": [
            "1 1 1 1 1 1 1 1 1 1 1 1 "
          ]
        }
      ],
      "source": [
        "from itertools import repeat\n",
        "\n",
        "for i in repeat(1, 12):\n",
        "    print(i, end=\" \")\n"
      ]
    }
  ],
  "metadata": {
    "colab": {
      "provenance": []
    },
    "kernelspec": {
      "display_name": "Python 3",
      "name": "python3"
    },
    "language_info": {
      "codemirror_mode": {
        "name": "ipython",
        "version": 3
      },
      "file_extension": ".py",
      "mimetype": "text/x-python",
      "name": "python",
      "nbconvert_exporter": "python",
      "pygments_lexer": "ipython3",
      "version": "3.13.5"
    }
  },
  "nbformat": 4,
  "nbformat_minor": 0
}
