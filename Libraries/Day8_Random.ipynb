{
  "nbformat": 4,
  "nbformat_minor": 0,
  "metadata": {
    "colab": {
      "provenance": []
    },
    "kernelspec": {
      "name": "python3",
      "display_name": "Python 3"
    },
    "language_info": {
      "name": "python"
    }
  },
  "cells": [
    {
      "cell_type": "markdown",
      "source": [
        "###Random Basics"
      ],
      "metadata": {
        "id": "Ff50vkHoCsMq"
      }
    },
    {
      "cell_type": "code",
      "execution_count": 37,
      "metadata": {
        "colab": {
          "base_uri": "https://localhost:8080/"
        },
        "id": "fxfdjhlUBPGv",
        "outputId": "49c0d573-6679-4844-b2d2-c86d05698a81"
      },
      "outputs": [
        {
          "output_type": "stream",
          "name": "stdout",
          "text": [
            "0.09158478740507359\n"
          ]
        }
      ],
      "source": [
        "import random\n",
        "\n",
        "random1 = random.random()\n",
        "print(random1)"
      ]
    },
    {
      "cell_type": "code",
      "source": [
        "random2 = random.uniform(1,10)\n",
        "print(random2)"
      ],
      "metadata": {
        "colab": {
          "base_uri": "https://localhost:8080/"
        },
        "id": "Wh8Ec4ERBxLf",
        "outputId": "addc91cd-7975-4da2-94eb-c45b5fccd079"
      },
      "execution_count": 38,
      "outputs": [
        {
          "output_type": "stream",
          "name": "stdout",
          "text": [
            "4.2495172658524645\n"
          ]
        }
      ]
    },
    {
      "cell_type": "code",
      "source": [
        "random3 = int(random.uniform(1,10))\n",
        "print(random3)"
      ],
      "metadata": {
        "colab": {
          "base_uri": "https://localhost:8080/"
        },
        "id": "kxuIZ9JKB4Ks",
        "outputId": "a5076608-9dd6-4d3a-c176-68fa1e041127"
      },
      "execution_count": 39,
      "outputs": [
        {
          "output_type": "stream",
          "name": "stdout",
          "text": [
            "2\n"
          ]
        }
      ]
    },
    {
      "cell_type": "code",
      "source": [
        "random4 = random.randint(1,10)\n",
        "print(random4)"
      ],
      "metadata": {
        "colab": {
          "base_uri": "https://localhost:8080/"
        },
        "id": "8S1-Qv1wCGzc",
        "outputId": "37993dff-6a63-4bc3-cd13-00f9c74cbceb"
      },
      "execution_count": 40,
      "outputs": [
        {
          "output_type": "stream",
          "name": "stdout",
          "text": [
            "5\n"
          ]
        }
      ]
    },
    {
      "cell_type": "code",
      "source": [
        "random5 = random.randrange(1,10)\n",
        "print(random5)"
      ],
      "metadata": {
        "colab": {
          "base_uri": "https://localhost:8080/"
        },
        "id": "Zb43Q0bDCRYA",
        "outputId": "86fa739d-c861-4373-ad4f-0c39994257fa"
      },
      "execution_count": 41,
      "outputs": [
        {
          "output_type": "stream",
          "name": "stdout",
          "text": [
            "5\n"
          ]
        }
      ]
    },
    {
      "cell_type": "markdown",
      "source": [
        "###Random in list and uses"
      ],
      "metadata": {
        "id": "d7Y1ubN3C7mT"
      }
    },
    {
      "cell_type": "code",
      "source": [
        "randlist = [\"sharingan\", \"byakugan\", \"rinnegan\", \"tenseigan\"]\n",
        "dojutsu = random.choice(randlist)\n",
        "print(dojutsu)"
      ],
      "metadata": {
        "colab": {
          "base_uri": "https://localhost:8080/"
        },
        "id": "BZbtQ04zDAoQ",
        "outputId": "edade727-13e3-4c7d-c688-e9bb7a07829d"
      },
      "execution_count": 42,
      "outputs": [
        {
          "output_type": "stream",
          "name": "stdout",
          "text": [
            "byakugan\n"
          ]
        }
      ]
    },
    {
      "cell_type": "markdown",
      "source": [
        "Do not allow dublicates"
      ],
      "metadata": {
        "id": "N2n3UZRQEbEr"
      }
    },
    {
      "cell_type": "code",
      "source": [
        "dojutsu = random.sample(randlist, 2)\n",
        "left_eye = dojutsu[0]\n",
        "right_eye = dojutsu[1]\n",
        "print(left_eye, right_eye)"
      ],
      "metadata": {
        "colab": {
          "base_uri": "https://localhost:8080/"
        },
        "id": "m08zLCvBDT8j",
        "outputId": "db30e59e-b96d-4a0b-e698-ccb7c9ce0ffd"
      },
      "execution_count": 43,
      "outputs": [
        {
          "output_type": "stream",
          "name": "stdout",
          "text": [
            "sharingan rinnegan\n"
          ]
        }
      ]
    },
    {
      "cell_type": "markdown",
      "source": [
        "Allows dublicates"
      ],
      "metadata": {
        "id": "20f2yqokEGEE"
      }
    },
    {
      "cell_type": "code",
      "source": [
        "dojutsu = random.choices(randlist, k = 2)\n",
        "left_eye = dojutsu[0]\n",
        "right_eye = dojutsu[1]\n",
        "print(left_eye, right_eye)"
      ],
      "metadata": {
        "colab": {
          "base_uri": "https://localhost:8080/"
        },
        "id": "SX6eOpgaDy_b",
        "outputId": "277c373b-8600-42c1-a7cc-ce53da374d51"
      },
      "execution_count": 44,
      "outputs": [
        {
          "output_type": "stream",
          "name": "stdout",
          "text": [
            "rinnegan tenseigan\n"
          ]
        }
      ]
    },
    {
      "cell_type": "markdown",
      "source": [
        "###Short code for score fixing\n"
      ],
      "metadata": {
        "id": "NuqmxkpcEzzc"
      }
    },
    {
      "cell_type": "code",
      "source": [
        "rand_list = [1, 2, 3, 4, 5]\n",
        "random.shuffle(rand_list)\n",
        "print(rand_list)\n"
      ],
      "metadata": {
        "colab": {
          "base_uri": "https://localhost:8080/"
        },
        "id": "wM0t7fHdE6vh",
        "outputId": "4beb131f-411f-4571-f387-76467c34c568"
      },
      "execution_count": 45,
      "outputs": [
        {
          "output_type": "stream",
          "name": "stdout",
          "text": [
            "[1, 2, 5, 3, 4]\n"
          ]
        }
      ]
    },
    {
      "cell_type": "code",
      "source": [
        "random.seed(1)\n",
        "print(random.random(), random.randint(1, 10))"
      ],
      "metadata": {
        "colab": {
          "base_uri": "https://localhost:8080/"
        },
        "id": "Jm6VmGi-FBAn",
        "outputId": "1e22bd43-8e25-42bb-ae49-0d491e37eadd"
      },
      "execution_count": 46,
      "outputs": [
        {
          "output_type": "stream",
          "name": "stdout",
          "text": [
            "0.13436424411240122 2\n"
          ]
        }
      ]
    },
    {
      "cell_type": "code",
      "source": [
        "random.seed(2)\n",
        "print(random.random(), random.randint(1, 10))"
      ],
      "metadata": {
        "colab": {
          "base_uri": "https://localhost:8080/"
        },
        "id": "BqbZDZlaFC7h",
        "outputId": "7dc3cf86-146f-4928-f017-103992ed02dc"
      },
      "execution_count": 47,
      "outputs": [
        {
          "output_type": "stream",
          "name": "stdout",
          "text": [
            "0.9560342718892494 1\n"
          ]
        }
      ]
    },
    {
      "cell_type": "code",
      "source": [
        "random.seed(1)\n",
        "print(random.random(), random.randint(1, 10))"
      ],
      "metadata": {
        "colab": {
          "base_uri": "https://localhost:8080/"
        },
        "id": "dqhN-5pWFJZu",
        "outputId": "1e435c72-5f90-4e92-fe41-90f96fbbb462"
      },
      "execution_count": 48,
      "outputs": [
        {
          "output_type": "stream",
          "name": "stdout",
          "text": [
            "0.13436424411240122 2\n"
          ]
        }
      ]
    },
    {
      "cell_type": "code",
      "source": [
        "random.seed(2)\n",
        "print(random.random(), random.randint(1, 10))"
      ],
      "metadata": {
        "colab": {
          "base_uri": "https://localhost:8080/"
        },
        "id": "VAyysWZHFOUd",
        "outputId": "e4d70124-3d5d-4043-de9e-a346623196ee"
      },
      "execution_count": 49,
      "outputs": [
        {
          "output_type": "stream",
          "name": "stdout",
          "text": [
            "0.9560342718892494 1\n"
          ]
        }
      ]
    }
  ]
}