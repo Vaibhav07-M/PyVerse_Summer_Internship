{
  "nbformat": 4,
  "nbformat_minor": 0,
  "metadata": {
    "colab": {
      "provenance": []
    },
    "kernelspec": {
      "name": "python3",
      "display_name": "Python 3"
    },
    "language_info": {
      "name": "python"
    }
  },
  "cells": [
    {
      "cell_type": "code",
      "execution_count": 1,
      "metadata": {
        "colab": {
          "base_uri": "https://localhost:8080/"
        },
        "id": "uhgKfYeXGosq",
        "outputId": "afcb2e7b-47b2-413e-bf07-771e37b4d878"
      },
      "outputs": [
        {
          "output_type": "stream",
          "name": "stdout",
          "text": [
            "Counter({1: 3, 2: 2, 3: 1})\n",
            "Counter({'a': 4, 'v': 2, 'd': 2, 'A': 1, ' ': 1, 'K': 1, 'e': 1, 'r': 1})\n",
            "[('a', 4), ('v', 2)]\n",
            "('a', 4)\n",
            "a\n",
            "4\n",
            "['A', 'v', 'v', 'a', 'a', 'a', 'a', 'd', 'd', ' ', 'K', 'e', 'r']\n"
          ]
        }
      ],
      "source": [
        "from collections import Counter\n",
        "\n",
        "lista = [1, 1, 1, 2, 2, 3]\n",
        "stringa = \"Avada Kedavra\"\n",
        "\n",
        "count = Counter(lista)\n",
        "print(count)\n",
        "count = Counter(stringa)\n",
        "print(count)\n",
        "\n",
        "print(count.most_common(2))\n",
        "print(count.most_common(2)[0])\n",
        "print(count.most_common(2)[0][0])\n",
        "print(count.most_common(2)[0][1])\n",
        "print(list(count.elements()))\n"
      ]
    },
    {
      "cell_type": "code",
      "source": [
        "from collections import namedtuple\n",
        "\n",
        "cord = namedtuple(\"Coordinates\", 'x,y,z')\n",
        "pt = cord(1, 2, 3)\n",
        "print(pt)\n",
        "\n",
        "info = namedtuple(\"Info\", \"name, age, gender\")\n",
        "pt = info(\"Harry Potter\", 29, \"Male\")\n",
        "print(pt)\n",
        "\n",
        "info1 = namedtuple(\"Info1\", \"name, age, gender\")\n",
        "pt = info1(\"Ron Weasley\", 45, \"Male\")\n",
        "print(pt)\n"
      ],
      "metadata": {
        "colab": {
          "base_uri": "https://localhost:8080/"
        },
        "id": "Db9prgVTG1Rq",
        "outputId": "0fa42ee6-cac4-48e1-9f64-11a5f1f2ddf3"
      },
      "execution_count": 2,
      "outputs": [
        {
          "output_type": "stream",
          "name": "stdout",
          "text": [
            "Coordinates(x=1, y=2, z=3)\n",
            "Info(name='Harry Potter', age=29, gender='Male')\n",
            "Info1(name='Ron Weasley', age=45, gender='Male')\n"
          ]
        }
      ]
    },
    {
      "cell_type": "code",
      "source": [
        "from collections import defaultdict\n",
        "\n",
        "ddict = defaultdict(int)\n",
        "ddict[\"a\"] = 1\n",
        "ddict[\"b\"] = 2\n",
        "print(ddict[\"c\"])\n"
      ],
      "metadata": {
        "colab": {
          "base_uri": "https://localhost:8080/"
        },
        "id": "_axRiGCjG3ID",
        "outputId": "e2850a1f-f3aa-4ace-fca9-d7e047b5b6dd"
      },
      "execution_count": 3,
      "outputs": [
        {
          "output_type": "stream",
          "name": "stdout",
          "text": [
            "0\n"
          ]
        }
      ]
    },
    {
      "cell_type": "code",
      "source": [
        "from collections import deque\n",
        "\n",
        "d = deque()\n",
        "d.append(\"Harry Potter\")\n",
        "d.append(\"Hermione Granger\")\n",
        "d.appendleft(\"Professor Albus Dumbledore\")\n",
        "print(d)\n",
        "\n",
        "d.pop()\n",
        "print(d)\n",
        "\n",
        "d.popleft()\n",
        "print(d)\n",
        "\n",
        "d.extend([\"Hermione Granger\", \"Ron Weasley\"])\n",
        "print(d)\n",
        "\n",
        "d.extendleft([\"Professor Albus Dumbledore\", \"Professor Severus Snape\"])\n",
        "print(d)\n",
        "\n",
        "d.rotate(2)\n",
        "print(d)\n",
        "\n",
        "d.rotate(-3)\n",
        "print(d)\n"
      ],
      "metadata": {
        "colab": {
          "base_uri": "https://localhost:8080/"
        },
        "id": "9jOQRj1wG4_U",
        "outputId": "1c3ea6c7-ab37-4686-a4e5-1a1c36be300b"
      },
      "execution_count": 4,
      "outputs": [
        {
          "output_type": "stream",
          "name": "stdout",
          "text": [
            "deque(['Professor Albus Dumbledore', 'Harry Potter', 'Hermione Granger'])\n",
            "deque(['Professor Albus Dumbledore', 'Harry Potter'])\n",
            "deque(['Harry Potter'])\n",
            "deque(['Harry Potter', 'Hermione Granger', 'Ron Weasley'])\n",
            "deque(['Professor Severus Snape', 'Professor Albus Dumbledore', 'Harry Potter', 'Hermione Granger', 'Ron Weasley'])\n",
            "deque(['Hermione Granger', 'Ron Weasley', 'Professor Severus Snape', 'Professor Albus Dumbledore', 'Harry Potter'])\n",
            "deque(['Professor Albus Dumbledore', 'Harry Potter', 'Hermione Granger', 'Ron Weasley', 'Professor Severus Snape'])\n"
          ]
        }
      ]
    }
  ]
}