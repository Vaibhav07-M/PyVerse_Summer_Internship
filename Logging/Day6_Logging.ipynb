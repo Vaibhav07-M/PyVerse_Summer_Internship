{
  "nbformat": 4,
  "nbformat_minor": 0,
  "metadata": {
    "colab": {
      "provenance": []
    },
    "kernelspec": {
      "name": "python3",
      "display_name": "Python 3"
    },
    "language_info": {
      "name": "python"
    }
  },
  "cells": [
    {
      "cell_type": "markdown",
      "source": [
        "###Logging Intro"
      ],
      "metadata": {
        "id": "WlFI810EJTKj"
      }
    },
    {
      "cell_type": "code",
      "source": [
        "import logging\n",
        "\n",
        "logging.basicConfig(level=logging.DEBUG,\n",
        "                    format='%(asctime)s - %(name)s - %(levelname)s - %(message)s',\n",
        "                    datefmt='%d-%m-%Y %H:%M:%S')\n",
        "\n",
        "logging.debug(\"This is the debug log\")\n",
        "logging.info(\"This is the info log\")\n",
        "logging.warning(\"This is the warning log\")\n",
        "logging.error(\"This is the error log\")\n",
        "logging.critical(\"This is the critical log\")"
      ],
      "metadata": {
        "colab": {
          "base_uri": "https://localhost:8080/"
        },
        "id": "-UbyTBV5Jqwv",
        "outputId": "064baa6c-eb0f-4bec-a5b4-74b33ae4432f"
      },
      "execution_count": 14,
      "outputs": [
        {
          "output_type": "stream",
          "name": "stderr",
          "text": [
            "25-06-2025 13:37:15 - root - DEBUG - This is the debug log\n",
            "25-06-2025 13:37:15 - root - INFO - This is the info log\n",
            "25-06-2025 13:37:15 - root - WARNING - This is the warning log\n",
            "25-06-2025 13:37:15 - root - ERROR - This is the error log\n",
            "25-06-2025 13:37:15 - root - CRITICAL - This is the critical log\n"
          ]
        }
      ]
    },
    {
      "cell_type": "markdown",
      "source": [
        "###Importing log from other file"
      ],
      "metadata": {
        "id": "CqYVdwb-KbV1"
      }
    },
    {
      "cell_type": "code",
      "source": [
        "%%writefile logging2.py\n",
        "import logging\n",
        "\n",
        "logger = logging.getLogger(__name__)\n",
        "# logger.propagate = False\n",
        "logger.info(\"From module logging2\")\n"
      ],
      "metadata": {
        "colab": {
          "base_uri": "https://localhost:8080/"
        },
        "id": "bFmyNqw_LGhD",
        "outputId": "7e02a211-c625-4351-b679-d3cbbe95e9b0"
      },
      "execution_count": null,
      "outputs": [
        {
          "output_type": "stream",
          "name": "stdout",
          "text": [
            "Writing logging2.py\n"
          ]
        }
      ]
    },
    {
      "cell_type": "code",
      "source": [
        "%%writefile logging1.py\n",
        "import logging\n",
        "\n",
        "logging.basicConfig(level=logging.DEBUG,\n",
        "                    format='%(asctime)s - %(name)s - %(levelname)s - %(message)s',\n",
        "                    datefmt='%d-%m-%Y %H:%M:%S')\n",
        "\n",
        "import logging2\n"
      ],
      "metadata": {
        "colab": {
          "base_uri": "https://localhost:8080/"
        },
        "id": "x5mQPg0aLR83",
        "outputId": "ef166cb3-d386-4dec-c218-1cf099ce1506"
      },
      "execution_count": null,
      "outputs": [
        {
          "output_type": "stream",
          "name": "stdout",
          "text": [
            "Writing logging1.py\n"
          ]
        }
      ]
    },
    {
      "cell_type": "code",
      "source": [
        "!python logging1.py"
      ],
      "metadata": {
        "colab": {
          "base_uri": "https://localhost:8080/"
        },
        "id": "Biigz1lmLieV",
        "outputId": "4793210a-cf46-48af-fbbc-7f907c69b207"
      },
      "execution_count": null,
      "outputs": [
        {
          "output_type": "stream",
          "name": "stdout",
          "text": [
            "25-06-2025 13:32:15 - logging2 - INFO - From module logging2\n"
          ]
        }
      ]
    },
    {
      "cell_type": "markdown",
      "source": [
        "###Log Handler"
      ],
      "metadata": {
        "id": "tc8_6zbmLu5o"
      }
    },
    {
      "cell_type": "code",
      "source": [
        "%%writefile loghandler.py\n",
        "import logging\n",
        "\n",
        "logger =logging.getLogger(__name__)\n",
        "logger.setLevel(logging.DEBUG)\n",
        "\n",
        "stream_handler = logging.StreamHandler()\n",
        "file_handler = logging.FileHandler('app.log')\n",
        "\n",
        "stream_handler.setLevel(logging.DEBUG)\n",
        "file_handler.setLevel(logging.ERROR)\n",
        "\n",
        "handler_formatter = logging.Formatter('%(name)s - %(levelname)s - %(message)s')\n",
        "stream_handler.setFormatter(handler_formatter)\n",
        "file_handler.setFormatter(handler_formatter)\n",
        "\n",
        "logger.addHandler(stream_handler)\n",
        "logger.addHandler(file_handler)\n",
        "\n",
        "logger.error('This is an error message')\n",
        "logger.debug('This is a debug message')"
      ],
      "metadata": {
        "colab": {
          "base_uri": "https://localhost:8080/"
        },
        "id": "mC28TvSqL5Jq",
        "outputId": "19f461b0-105d-4826-ed84-fd2ee5e3a227"
      },
      "execution_count": null,
      "outputs": [
        {
          "output_type": "stream",
          "name": "stdout",
          "text": [
            "Writing loghandler.py\n"
          ]
        }
      ]
    },
    {
      "cell_type": "code",
      "source": [
        "!python loghandler.py"
      ],
      "metadata": {
        "colab": {
          "base_uri": "https://localhost:8080/"
        },
        "id": "r2yH1p52MRWk",
        "outputId": "c0a94713-b6a3-4a3b-8507-a87ce09b2468"
      },
      "execution_count": null,
      "outputs": [
        {
          "output_type": "stream",
          "name": "stdout",
          "text": [
            "__main__ - ERROR - This is an error message\n",
            "__main__ - DEBUG - This is a debug message\n"
          ]
        }
      ]
    },
    {
      "cell_type": "code",
      "source": [
        "!cat app.log"
      ],
      "metadata": {
        "colab": {
          "base_uri": "https://localhost:8080/"
        },
        "id": "asCCvPWAOkts",
        "outputId": "6149d1bb-9551-4045-eb55-5439e6dabe9a"
      },
      "execution_count": null,
      "outputs": [
        {
          "output_type": "stream",
          "name": "stdout",
          "text": [
            "__main__ - ERROR - This is an error message\n"
          ]
        }
      ]
    },
    {
      "cell_type": "markdown",
      "source": [
        "###Try & Except logging"
      ],
      "metadata": {
        "id": "aKO8ScmlP4WR"
      }
    },
    {
      "cell_type": "code",
      "source": [
        "%%writefile Try&ExceptLogging.py\n",
        "\n",
        "import logging\n",
        "import traceback\n",
        "\n",
        "try:\n",
        "  a = [1, 2, 3, 4, 5, 6, 7, 8, 9]\n",
        "  number = a[10]\n",
        "except:\n",
        "  logging.error(\"Opps!!, an error occured Check your Syntax again!!: %s\", traceback.format_exc())"
      ],
      "metadata": {
        "colab": {
          "base_uri": "https://localhost:8080/"
        },
        "id": "FtU_CGvBQEhM",
        "outputId": "cff18c42-c1b3-4752-89d1-b6f57c28d393"
      },
      "execution_count": null,
      "outputs": [
        {
          "output_type": "stream",
          "name": "stdout",
          "text": [
            "Writing Try&ExceptLogging.py\n"
          ]
        }
      ]
    },
    {
      "cell_type": "code",
      "source": [
        "!python Try\\&ExceptLogging.py"
      ],
      "metadata": {
        "colab": {
          "base_uri": "https://localhost:8080/"
        },
        "id": "gW915K0sRXGR",
        "outputId": "6c888648-0393-49d3-88e5-faad4d59e95b"
      },
      "execution_count": null,
      "outputs": [
        {
          "output_type": "stream",
          "name": "stdout",
          "text": [
            "ERROR:root:Opps!!, an error occured Check your Syntax again!!: Traceback (most recent call last):\n",
            "  File \"/content/Try&ExceptLogging.py\", line 7, in <module>\n",
            "    number = a[10]\n",
            "             ~^^^^\n",
            "IndexError: list index out of range\n",
            "\n"
          ]
        }
      ]
    },
    {
      "cell_type": "markdown",
      "source": [
        "###Custom config for the log"
      ],
      "metadata": {
        "id": "wAkEnL3PSGuA"
      }
    },
    {
      "cell_type": "code",
      "execution_count": null,
      "metadata": {
        "colab": {
          "base_uri": "https://localhost:8080/"
        },
        "id": "hrDe81i1FSaD",
        "outputId": "274fa9d2-7a27-4ade-8eb9-9fdd8d8f3cf8"
      },
      "outputs": [
        {
          "output_type": "stream",
          "name": "stdout",
          "text": [
            "Writing mylog.conf\n"
          ]
        }
      ],
      "source": [
        "%%writefile mylog.conf\n",
        "[loggers]\n",
        "keys = root, mylogger\n",
        "\n",
        "[handlers]\n",
        "keys = myhandler\n",
        "\n",
        "[formatters]\n",
        "keys = myformatter\n",
        "\n",
        "[logger_root]\n",
        "level = DEBUG\n",
        "handlers = myhandler\n",
        "\n",
        "[logger_mylogger]\n",
        "level = DEBUG\n",
        "handlers = myhandler\n",
        "qualname = mylogger\n",
        "propagate = 0\n",
        "\n",
        "[handler_myhandler]\n",
        "class = StreamHandler\n",
        "level = DEBUG\n",
        "formatter = myformatter\n",
        "args = (sys.stdout,)\n",
        "\n",
        "[formatter_myformatter]\n",
        "format = %(asctime)s - %(name)s - %(levelname)s - %(message)s"
      ]
    },
    {
      "cell_type": "code",
      "source": [
        "%%writefile mylog.py\n",
        "import logging\n",
        "import logging.config\n",
        "import sys\n",
        "import os\n",
        "\n",
        "config_path = os.path.join(os.getcwd(), 'mylog.conf')\n",
        "logging.config.fileConfig(config_path)\n",
        "\n",
        "logger = logging.getLogger(\"mylogger\")\n",
        "logger.debug(\"This is a debug message\")"
      ],
      "metadata": {
        "colab": {
          "base_uri": "https://localhost:8080/"
        },
        "id": "e0WVUo7AISut",
        "outputId": "282d0d82-27e2-4836-faa3-51609a4aeef8"
      },
      "execution_count": null,
      "outputs": [
        {
          "output_type": "stream",
          "name": "stdout",
          "text": [
            "Writing mylog.py\n"
          ]
        }
      ]
    },
    {
      "cell_type": "code",
      "source": [
        "!python mylog.py"
      ],
      "metadata": {
        "colab": {
          "base_uri": "https://localhost:8080/"
        },
        "id": "JOW9VLDHIra3",
        "outputId": "fda1a81f-51a8-4326-c253-bd5a624209ef"
      },
      "execution_count": null,
      "outputs": [
        {
          "output_type": "stream",
          "name": "stdout",
          "text": [
            "2025-06-25 13:32:15,675 - mylogger - DEBUG - This is a debug message\n"
          ]
        }
      ]
    }
  ]
}